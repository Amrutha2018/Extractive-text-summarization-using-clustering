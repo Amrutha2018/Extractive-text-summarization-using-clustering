{
  "nbformat": 4,
  "nbformat_minor": 0,
  "metadata": {
    "colab": {
      "name": "clustering.ipynb",
      "provenance": []
    },
    "kernelspec": {
      "name": "python3",
      "display_name": "Python 3"
    }
  },
  "cells": [
    {
      "cell_type": "code",
      "metadata": {
        "id": "fcPKTVMBBiGc",
        "colab_type": "code",
        "outputId": "ac7f8d7d-0d3a-4158-c2cb-82c50bf97ead",
        "colab": {
          "base_uri": "https://localhost:8080/",
          "height": 193
        }
      },
      "source": [
        "pip install wget"
      ],
      "execution_count": 0,
      "outputs": [
        {
          "output_type": "stream",
          "text": [
            "Collecting wget\n",
            "  Downloading https://files.pythonhosted.org/packages/47/6a/62e288da7bcda82b935ff0c6cfe542970f04e29c756b0e147251b2fb251f/wget-3.2.zip\n",
            "Building wheels for collected packages: wget\n",
            "  Building wheel for wget (setup.py) ... \u001b[?25l\u001b[?25hdone\n",
            "  Created wheel for wget: filename=wget-3.2-cp36-none-any.whl size=9682 sha256=71892b249ea1bf84272d2a345e17fb1a36e7f9bf207fa365989ab9fa99292813\n",
            "  Stored in directory: /root/.cache/pip/wheels/40/15/30/7d8f7cea2902b4db79e3fea550d7d7b85ecb27ef992b618f3f\n",
            "Successfully built wget\n",
            "Installing collected packages: wget\n",
            "Successfully installed wget-3.2\n"
          ],
          "name": "stdout"
        }
      ]
    },
    {
      "cell_type": "code",
      "metadata": {
        "id": "Yw4CykBzB88O",
        "colab_type": "code",
        "outputId": "9cd92184-0740-4c1d-8acf-e8eaa655ec1c",
        "colab": {
          "base_uri": "https://localhost:8080/",
          "height": 34
        }
      },
      "source": [
        "import wget\n",
        "\n",
        "url = \"http://www.cs.toronto.edu/~rkiros/models/dictionary.txt\"\n",
        "wget.download(url, '/content/data/tables')\n",
        "\n",
        "url = \"http://www.cs.toronto.edu/~rkiros/models/utable.npy\"\n",
        "wget.download(url, '/content/data/tables')\n",
        "\n",
        "url = \"http://www.cs.toronto.edu/~rkiros/models/btable.npy\"\n",
        "wget.download(url, '/content/data/tables')\n",
        "\n",
        "url = \"http://www.cs.toronto.edu/~rkiros/models/uni_skip.npz\"\n",
        "wget.download(url, '/content/data/models')\n",
        "\n",
        "url = \"http://www.cs.toronto.edu/~rkiros/models/uni_skip.npz.pkl\"\n",
        "wget.download(url, '/content/data/models')\n",
        "\n",
        "url = \"http://www.cs.toronto.edu/~rkiros/models/bi_skip.npz\"\n",
        "wget.download(url, '/content/data/models')\n",
        "\n",
        "url = \"http://www.cs.toronto.edu/~rkiros/models/bi_skip.npz.pkl\"\n",
        "wget.download(url, '/content/data/models')"
      ],
      "execution_count": 0,
      "outputs": [
        {
          "output_type": "execute_result",
          "data": {
            "text/plain": [
              "'/content/data/models/bi_skip.npz.pkl'"
            ]
          },
          "metadata": {
            "tags": []
          },
          "execution_count": 3
        }
      ]
    },
    {
      "cell_type": "code",
      "metadata": {
        "id": "BESBZJnu5jwG",
        "colab_type": "code",
        "colab": {}
      },
      "source": [
        "import sys  \n",
        "sys.path.insert(0,'/content/data')\n",
        "\n",
        "import skipthoughts"
      ],
      "execution_count": 0,
      "outputs": []
    },
    {
      "cell_type": "code",
      "metadata": {
        "id": "AliiZipf5myC",
        "colab_type": "code",
        "outputId": "bc08353e-1177-41c0-d096-5c131e8c05dc",
        "colab": {
          "base_uri": "https://localhost:8080/",
          "height": 471
        }
      },
      "source": [
        "pip install talon"
      ],
      "execution_count": 0,
      "outputs": [
        {
          "output_type": "stream",
          "text": [
            "Collecting talon\n",
            "\u001b[?25l  Downloading https://files.pythonhosted.org/packages/eb/f7/3348324b489f74500054a1a1ea18b86cc40d19994f789311228c12a6bcc7/talon-1.4.4.tar.gz (62kB)\n",
            "\r\u001b[K     |█████▎                          | 10kB 18.5MB/s eta 0:00:01\r\u001b[K     |██████████▌                     | 20kB 6.7MB/s eta 0:00:01\r\u001b[K     |███████████████▉                | 30kB 9.3MB/s eta 0:00:01\r\u001b[K     |█████████████████████           | 40kB 11.6MB/s eta 0:00:01\r\u001b[K     |██████████████████████████▎     | 51kB 7.4MB/s eta 0:00:01\r\u001b[K     |███████████████████████████████▋| 61kB 8.6MB/s eta 0:00:01\r\u001b[K     |████████████████████████████████| 71kB 5.1MB/s \n",
            "\u001b[?25hRequirement already satisfied: lxml>=2.3.3 in /usr/local/lib/python3.6/dist-packages (from talon) (4.2.6)\n",
            "Requirement already satisfied: regex>=1 in /usr/local/lib/python3.6/dist-packages (from talon) (2019.12.20)\n",
            "Requirement already satisfied: numpy in /usr/local/lib/python3.6/dist-packages (from talon) (1.18.3)\n",
            "Requirement already satisfied: scipy in /usr/local/lib/python3.6/dist-packages (from talon) (1.4.1)\n",
            "Requirement already satisfied: scikit-learn>=0.16.1 in /usr/local/lib/python3.6/dist-packages (from talon) (0.22.2.post1)\n",
            "Requirement already satisfied: chardet>=1.0.1 in /usr/local/lib/python3.6/dist-packages (from talon) (3.0.4)\n",
            "Collecting cchardet>=0.3.5\n",
            "\u001b[?25l  Downloading https://files.pythonhosted.org/packages/1e/c5/7e1a0d7b4afd83d6f8de794fce82820ec4c5136c6d52e14000822681a842/cchardet-2.1.6-cp36-cp36m-manylinux2010_x86_64.whl (241kB)\n",
            "\u001b[K     |████████████████████████████████| 245kB 24.7MB/s \n",
            "\u001b[?25hCollecting cssselect\n",
            "  Downloading https://files.pythonhosted.org/packages/3b/d4/3b5c17f00cce85b9a1e6f91096e1cc8e8ede2e1be8e96b87ce1ed09e92c5/cssselect-1.1.0-py2.py3-none-any.whl\n",
            "Requirement already satisfied: six>=1.10.0 in /usr/local/lib/python3.6/dist-packages (from talon) (1.12.0)\n",
            "Requirement already satisfied: html5lib in /usr/local/lib/python3.6/dist-packages (from talon) (1.0.1)\n",
            "Requirement already satisfied: joblib>=0.11 in /usr/local/lib/python3.6/dist-packages (from scikit-learn>=0.16.1->talon) (0.14.1)\n",
            "Requirement already satisfied: webencodings in /usr/local/lib/python3.6/dist-packages (from html5lib->talon) (0.5.1)\n",
            "Building wheels for collected packages: talon\n",
            "  Building wheel for talon (setup.py) ... \u001b[?25l\u001b[?25hdone\n",
            "  Created wheel for talon: filename=talon-1.4.4-cp36-none-any.whl size=35288 sha256=55d87704629a74b5438c16c73bfb9a7a54e453264eedb3e7e911b23923b8b3d7\n",
            "  Stored in directory: /root/.cache/pip/wheels/3f/ca/f9/748f5328839c03fe055f69110357b4718853dde8d872896209\n",
            "Successfully built talon\n",
            "Installing collected packages: cchardet, cssselect, talon\n",
            "Successfully installed cchardet-2.1.6 cssselect-1.1.0 talon-1.4.4\n"
          ],
          "name": "stdout"
        }
      ]
    },
    {
      "cell_type": "code",
      "metadata": {
        "id": "JeGHdjNc5s-n",
        "colab_type": "code",
        "outputId": "b07201b8-08f9-4f22-efb9-781489e9670d",
        "colab": {
          "base_uri": "https://localhost:8080/",
          "height": 228
        }
      },
      "source": [
        "pip install langdetect"
      ],
      "execution_count": 0,
      "outputs": [
        {
          "output_type": "stream",
          "text": [
            "Collecting langdetect\n",
            "\u001b[?25l  Downloading https://files.pythonhosted.org/packages/56/a3/8407c1e62d5980188b4acc45ef3d94b933d14a2ebc9ef3505f22cf772570/langdetect-1.0.8.tar.gz (981kB)\n",
            "\r\u001b[K     |▍                               | 10kB 11.4MB/s eta 0:00:01\r\u001b[K     |▊                               | 20kB 7.5MB/s eta 0:00:01\r\u001b[K     |█                               | 30kB 10.2MB/s eta 0:00:01\r\u001b[K     |█▍                              | 40kB 11.5MB/s eta 0:00:01\r\u001b[K     |█▊                              | 51kB 7.9MB/s eta 0:00:01\r\u001b[K     |██                              | 61kB 9.0MB/s eta 0:00:01\r\u001b[K     |██▍                             | 71kB 10.0MB/s eta 0:00:01\r\u001b[K     |██▊                             | 81kB 10.9MB/s eta 0:00:01\r\u001b[K     |███                             | 92kB 9.1MB/s eta 0:00:01\r\u001b[K     |███▍                            | 102kB 9.9MB/s eta 0:00:01\r\u001b[K     |███▊                            | 112kB 9.9MB/s eta 0:00:01\r\u001b[K     |████                            | 122kB 9.9MB/s eta 0:00:01\r\u001b[K     |████▍                           | 133kB 9.9MB/s eta 0:00:01\r\u001b[K     |████▊                           | 143kB 9.9MB/s eta 0:00:01\r\u001b[K     |█████                           | 153kB 9.9MB/s eta 0:00:01\r\u001b[K     |█████▍                          | 163kB 9.9MB/s eta 0:00:01\r\u001b[K     |█████▊                          | 174kB 9.9MB/s eta 0:00:01\r\u001b[K     |██████                          | 184kB 9.9MB/s eta 0:00:01\r\u001b[K     |██████▍                         | 194kB 9.9MB/s eta 0:00:01\r\u001b[K     |██████▊                         | 204kB 9.9MB/s eta 0:00:01\r\u001b[K     |███████                         | 215kB 9.9MB/s eta 0:00:01\r\u001b[K     |███████▍                        | 225kB 9.9MB/s eta 0:00:01\r\u001b[K     |███████▊                        | 235kB 9.9MB/s eta 0:00:01\r\u001b[K     |████████                        | 245kB 9.9MB/s eta 0:00:01\r\u001b[K     |████████▍                       | 256kB 9.9MB/s eta 0:00:01\r\u001b[K     |████████▊                       | 266kB 9.9MB/s eta 0:00:01\r\u001b[K     |█████████                       | 276kB 9.9MB/s eta 0:00:01\r\u001b[K     |█████████▍                      | 286kB 9.9MB/s eta 0:00:01\r\u001b[K     |█████████▊                      | 296kB 9.9MB/s eta 0:00:01\r\u001b[K     |██████████                      | 307kB 9.9MB/s eta 0:00:01\r\u001b[K     |██████████▍                     | 317kB 9.9MB/s eta 0:00:01\r\u001b[K     |██████████▊                     | 327kB 9.9MB/s eta 0:00:01\r\u001b[K     |███████████                     | 337kB 9.9MB/s eta 0:00:01\r\u001b[K     |███████████▍                    | 348kB 9.9MB/s eta 0:00:01\r\u001b[K     |███████████▊                    | 358kB 9.9MB/s eta 0:00:01\r\u001b[K     |████████████                    | 368kB 9.9MB/s eta 0:00:01\r\u001b[K     |████████████▍                   | 378kB 9.9MB/s eta 0:00:01\r\u001b[K     |████████████▊                   | 389kB 9.9MB/s eta 0:00:01\r\u001b[K     |█████████████                   | 399kB 9.9MB/s eta 0:00:01\r\u001b[K     |█████████████▍                  | 409kB 9.9MB/s eta 0:00:01\r\u001b[K     |█████████████▊                  | 419kB 9.9MB/s eta 0:00:01\r\u001b[K     |██████████████                  | 430kB 9.9MB/s eta 0:00:01\r\u001b[K     |██████████████▍                 | 440kB 9.9MB/s eta 0:00:01\r\u001b[K     |██████████████▊                 | 450kB 9.9MB/s eta 0:00:01\r\u001b[K     |███████████████                 | 460kB 9.9MB/s eta 0:00:01\r\u001b[K     |███████████████▍                | 471kB 9.9MB/s eta 0:00:01\r\u001b[K     |███████████████▊                | 481kB 9.9MB/s eta 0:00:01\r\u001b[K     |████████████████                | 491kB 9.9MB/s eta 0:00:01\r\u001b[K     |████████████████▍               | 501kB 9.9MB/s eta 0:00:01\r\u001b[K     |████████████████▊               | 512kB 9.9MB/s eta 0:00:01\r\u001b[K     |█████████████████               | 522kB 9.9MB/s eta 0:00:01\r\u001b[K     |█████████████████▍              | 532kB 9.9MB/s eta 0:00:01\r\u001b[K     |█████████████████▊              | 542kB 9.9MB/s eta 0:00:01\r\u001b[K     |██████████████████              | 552kB 9.9MB/s eta 0:00:01\r\u001b[K     |██████████████████▍             | 563kB 9.9MB/s eta 0:00:01\r\u001b[K     |██████████████████▊             | 573kB 9.9MB/s eta 0:00:01\r\u001b[K     |███████████████████             | 583kB 9.9MB/s eta 0:00:01\r\u001b[K     |███████████████████▍            | 593kB 9.9MB/s eta 0:00:01\r\u001b[K     |███████████████████▊            | 604kB 9.9MB/s eta 0:00:01\r\u001b[K     |████████████████████            | 614kB 9.9MB/s eta 0:00:01\r\u001b[K     |████████████████████▍           | 624kB 9.9MB/s eta 0:00:01\r\u001b[K     |████████████████████▊           | 634kB 9.9MB/s eta 0:00:01\r\u001b[K     |█████████████████████           | 645kB 9.9MB/s eta 0:00:01\r\u001b[K     |█████████████████████▍          | 655kB 9.9MB/s eta 0:00:01\r\u001b[K     |█████████████████████▊          | 665kB 9.9MB/s eta 0:00:01\r\u001b[K     |██████████████████████          | 675kB 9.9MB/s eta 0:00:01\r\u001b[K     |██████████████████████▍         | 686kB 9.9MB/s eta 0:00:01\r\u001b[K     |██████████████████████▊         | 696kB 9.9MB/s eta 0:00:01\r\u001b[K     |███████████████████████         | 706kB 9.9MB/s eta 0:00:01\r\u001b[K     |███████████████████████▍        | 716kB 9.9MB/s eta 0:00:01\r\u001b[K     |███████████████████████▊        | 727kB 9.9MB/s eta 0:00:01\r\u001b[K     |████████████████████████        | 737kB 9.9MB/s eta 0:00:01\r\u001b[K     |████████████████████████▍       | 747kB 9.9MB/s eta 0:00:01\r\u001b[K     |████████████████████████▊       | 757kB 9.9MB/s eta 0:00:01\r\u001b[K     |█████████████████████████       | 768kB 9.9MB/s eta 0:00:01\r\u001b[K     |█████████████████████████▍      | 778kB 9.9MB/s eta 0:00:01\r\u001b[K     |█████████████████████████▊      | 788kB 9.9MB/s eta 0:00:01\r\u001b[K     |██████████████████████████      | 798kB 9.9MB/s eta 0:00:01\r\u001b[K     |██████████████████████████▍     | 808kB 9.9MB/s eta 0:00:01\r\u001b[K     |██████████████████████████▊     | 819kB 9.9MB/s eta 0:00:01\r\u001b[K     |███████████████████████████     | 829kB 9.9MB/s eta 0:00:01\r\u001b[K     |███████████████████████████▍    | 839kB 9.9MB/s eta 0:00:01\r\u001b[K     |███████████████████████████▊    | 849kB 9.9MB/s eta 0:00:01\r\u001b[K     |████████████████████████████    | 860kB 9.9MB/s eta 0:00:01\r\u001b[K     |████████████████████████████▍   | 870kB 9.9MB/s eta 0:00:01\r\u001b[K     |████████████████████████████▊   | 880kB 9.9MB/s eta 0:00:01\r\u001b[K     |█████████████████████████████   | 890kB 9.9MB/s eta 0:00:01\r\u001b[K     |█████████████████████████████▍  | 901kB 9.9MB/s eta 0:00:01\r\u001b[K     |█████████████████████████████▊  | 911kB 9.9MB/s eta 0:00:01\r\u001b[K     |██████████████████████████████  | 921kB 9.9MB/s eta 0:00:01\r\u001b[K     |██████████████████████████████▍ | 931kB 9.9MB/s eta 0:00:01\r\u001b[K     |██████████████████████████████▊ | 942kB 9.9MB/s eta 0:00:01\r\u001b[K     |███████████████████████████████ | 952kB 9.9MB/s eta 0:00:01\r\u001b[K     |███████████████████████████████▍| 962kB 9.9MB/s eta 0:00:01\r\u001b[K     |███████████████████████████████▊| 972kB 9.9MB/s eta 0:00:01\r\u001b[K     |████████████████████████████████| 983kB 9.9MB/s \n",
            "\u001b[?25hRequirement already satisfied: six in /usr/local/lib/python3.6/dist-packages (from langdetect) (1.12.0)\n",
            "Building wheels for collected packages: langdetect\n",
            "  Building wheel for langdetect (setup.py) ... \u001b[?25l\u001b[?25hdone\n",
            "  Created wheel for langdetect: filename=langdetect-1.0.8-cp36-none-any.whl size=993193 sha256=44e4afe0c3a94d845bbaf5e85e78f431975e2c25de3d162f26796eb3482f03d9\n",
            "  Stored in directory: /root/.cache/pip/wheels/8d/b3/aa/6d99de9f3841d7d3d40a60ea06e6d669e8e5012e6c8b947a57\n",
            "Successfully built langdetect\n",
            "Installing collected packages: langdetect\n",
            "Successfully installed langdetect-1.0.8\n"
          ],
          "name": "stdout"
        }
      ]
    },
    {
      "cell_type": "code",
      "metadata": {
        "id": "JagZ8Ncn5wYQ",
        "colab_type": "code",
        "outputId": "f8868aa8-d4ef-44cf-a4a1-c2ecd44f5243",
        "colab": {
          "base_uri": "https://localhost:8080/",
          "height": 52
        }
      },
      "source": [
        "import nltk\n",
        "nltk.download('punkt')\n",
        "import numpy as np\n",
        "from talon.signature.bruteforce import extract_signature\n",
        "from langdetect import detect\n",
        "from nltk.tokenize import sent_tokenize\n",
        "from sklearn.cluster import KMeans\n",
        "from sklearn.metrics import pairwise_distances_argmin_min"
      ],
      "execution_count": 0,
      "outputs": [
        {
          "output_type": "stream",
          "text": [
            "[nltk_data] Downloading package punkt to /root/nltk_data...\n",
            "[nltk_data]   Package punkt is already up-to-date!\n"
          ],
          "name": "stdout"
        }
      ]
    },
    {
      "cell_type": "code",
      "metadata": {
        "id": "mM79aAIY50RH",
        "colab_type": "code",
        "outputId": "4ea07d8b-c94d-4d50-f048-0f064c7778ed",
        "colab": {
          "base_uri": "https://localhost:8080/",
          "height": 54
        }
      },
      "source": [
        "file = open('/content/data/myfile.txt').read()\n",
        "file"
      ],
      "execution_count": 0,
      "outputs": [
        {
          "output_type": "execute_result",
          "data": {
            "text/plain": [
              "'Without language, we would find ourselves living in a state of emotional chaos. Our brain has given us the potential to communicate in extraordinary ways, and the ways we choose to use our words can improve the neural functioning of the brain. In fact, a single word has the power to influence the expression of genes that regulate physical and emotional stress. If we do not continually exercise the brain’s language centers, we cripple our neurological ability to deal with the problems we encounter with each other. Language shapes our behavior, and each word we use is imbued with multitudes of personal meaning. The right words, spoken in the right way, can bring us love, money, and respect, while the wrong words—or even the right words spoken in the wrong way—can lead a country to war. We must carefully orchestrate our speech if we want to achieve our goals and bring our dreams to fruition. Although we are born with the gift of language, research shows that we are surprisingly unskilled when it comes to communicating with others. We often choose our words without thought, oblivious of the emotional effects they can have on others. We talk more than we need to. We listen poorly, without realizing it, and we often fail to pay attention to the subtle meanings conveyed by facial expressions, body gestures, and the tone and cadence of our voice elements of communication that are often more important than the words we actually say. These conversational shortcomings are not caused by poor education. Rather they are largely related to an underdeveloped brain, for the areas that govern social awareness, empathy, and related language skills are not fully operational until we’re about thirty years old. Despite this neurological handicap, scientific research shows that anyone young or old can exercise the language and social-awareness centers of the brain in ways that will enhance their capacity to communicate more effectively with others. To date we’ve identified and documented twelve strategies that will enhance the dynamics of any conversation, even with strangers. They can stimulate deep empathy and trust in the listener’s brain, and they can be used to interrupt negative thought patterns that, if left unchecked, can actually damage your brain’s emotional regulation circuits.\\n'"
            ]
          },
          "metadata": {
            "tags": []
          },
          "execution_count": 16
        }
      ]
    },
    {
      "cell_type": "code",
      "metadata": {
        "id": "0_FKaEwj53Vv",
        "colab_type": "code",
        "outputId": "28abb376-02aa-4043-bc02-652dd935deee",
        "colab": {
          "base_uri": "https://localhost:8080/",
          "height": 54
        }
      },
      "source": [
        "def preprocess_file(file):\n",
        "  lines = file.split('\\n')\n",
        "  for j in reversed(range(len(lines))):\n",
        "    lines[j] = lines[j].strip()\n",
        "    if lines[j] == '':\n",
        "      lines.pop(j)\n",
        "  file = ' '.join(lines)\n",
        "  return file\n",
        "\n",
        "\n",
        "# run function\n",
        "file = preprocess_file(file)\n",
        "file"
      ],
      "execution_count": 0,
      "outputs": [
        {
          "output_type": "execute_result",
          "data": {
            "text/plain": [
              "'Without language, we would find ourselves living in a state of emotional chaos. Our brain has given us the potential to communicate in extraordinary ways, and the ways we choose to use our words can improve the neural functioning of the brain. In fact, a single word has the power to influence the expression of genes that regulate physical and emotional stress. If we do not continually exercise the brain’s language centers, we cripple our neurological ability to deal with the problems we encounter with each other. Language shapes our behavior, and each word we use is imbued with multitudes of personal meaning. The right words, spoken in the right way, can bring us love, money, and respect, while the wrong words—or even the right words spoken in the wrong way—can lead a country to war. We must carefully orchestrate our speech if we want to achieve our goals and bring our dreams to fruition. Although we are born with the gift of language, research shows that we are surprisingly unskilled when it comes to communicating with others. We often choose our words without thought, oblivious of the emotional effects they can have on others. We talk more than we need to. We listen poorly, without realizing it, and we often fail to pay attention to the subtle meanings conveyed by facial expressions, body gestures, and the tone and cadence of our voice elements of communication that are often more important than the words we actually say. These conversational shortcomings are not caused by poor education. Rather they are largely related to an underdeveloped brain, for the areas that govern social awareness, empathy, and related language skills are not fully operational until we’re about thirty years old. Despite this neurological handicap, scientific research shows that anyone young or old can exercise the language and social-awareness centers of the brain in ways that will enhance their capacity to communicate more effectively with others. To date we’ve identified and documented twelve strategies that will enhance the dynamics of any conversation, even with strangers. They can stimulate deep empathy and trust in the listener’s brain, and they can be used to interrupt negative thought patterns that, if left unchecked, can actually damage your brain’s emotional regulation circuits.'"
            ]
          },
          "metadata": {
            "tags": []
          },
          "execution_count": 17
        }
      ]
    },
    {
      "cell_type": "code",
      "metadata": {
        "id": "jax2Z0Ay56w3",
        "colab_type": "code",
        "outputId": "80133698-983b-455a-fbb9-d614fd7dc2fb",
        "colab": {
          "base_uri": "https://localhost:8080/",
          "height": 315
        }
      },
      "source": [
        "def split_sentences(file):\n",
        "  sentences = sent_tokenize(file)\n",
        "  for j in reversed(range(len(sentences))):\n",
        "    sent = sentences[j]\n",
        "    sentences[j] = sent.strip()\n",
        "    if sent == '':\n",
        "      sentences.pop(j)\n",
        "  return sentences\n",
        "\n",
        "\n",
        "# run function\n",
        "file = split_sentences(file)\n",
        "file"
      ],
      "execution_count": 0,
      "outputs": [
        {
          "output_type": "execute_result",
          "data": {
            "text/plain": [
              "['Without language, we would find ourselves living in a state of emotional chaos.',\n",
              " 'Our brain has given us the potential to communicate in extraordinary ways, and the ways we choose to use our words can improve the neural functioning of the brain.',\n",
              " 'In fact, a single word has the power to influence the expression of genes that regulate physical and emotional stress.',\n",
              " 'If we do not continually exercise the brain’s language centers, we cripple our neurological ability to deal with the problems we encounter with each other.',\n",
              " 'Language shapes our behavior, and each word we use is imbued with multitudes of personal meaning.',\n",
              " 'The right words, spoken in the right way, can bring us love, money, and respect, while the wrong words—or even the right words spoken in the wrong way—can lead a country to war.',\n",
              " 'We must carefully orchestrate our speech if we want to achieve our goals and bring our dreams to fruition.',\n",
              " 'Although we are born with the gift of language, research shows that we are surprisingly unskilled when it comes to communicating with others.',\n",
              " 'We often choose our words without thought, oblivious of the emotional effects they can have on others.',\n",
              " 'We talk more than we need to.',\n",
              " 'We listen poorly, without realizing it, and we often fail to pay attention to the subtle meanings conveyed by facial expressions, body gestures, and the tone and cadence of our voice elements of communication that are often more important than the words we actually say.',\n",
              " 'These conversational shortcomings are not caused by poor education.',\n",
              " 'Rather they are largely related to an underdeveloped brain, for the areas that govern social awareness, empathy, and related language skills are not fully operational until we’re about thirty years old.',\n",
              " 'Despite this neurological handicap, scientific research shows that anyone young or old can exercise the language and social-awareness centers of the brain in ways that will enhance their capacity to communicate more effectively with others.',\n",
              " 'To date we’ve identified and documented twelve strategies that will enhance the dynamics of any conversation, even with strangers.',\n",
              " 'They can stimulate deep empathy and trust in the listener’s brain, and they can be used to interrupt negative thought patterns that, if left unchecked, can actually damage your brain’s emotional regulation circuits.']"
            ]
          },
          "metadata": {
            "tags": []
          },
          "execution_count": 18
        }
      ]
    },
    {
      "cell_type": "code",
      "metadata": {
        "id": "NTfU4U1T6B-U",
        "colab_type": "code",
        "outputId": "e284efab-7c49-498e-ff94-d38a18ef0b96",
        "colab": {
          "base_uri": "https://localhost:8080/",
          "height": 347
        }
      },
      "source": [
        "def skipthought_encode(file):\n",
        "  print('Loading pre-trained models...')\n",
        "  model = skipthoughts.load_model()\n",
        "  encoder = skipthoughts.Encoder(model)\n",
        "  print('Encoding sentences...')\n",
        "  enc_sentences = encoder.encode(file, verbose=False)\n",
        "  return enc_sentences\n",
        "\n",
        "# run function\n",
        "enc_file = skipthought_encode(file)\n",
        "enc_file"
      ],
      "execution_count": 0,
      "outputs": [
        {
          "output_type": "stream",
          "text": [
            "Loading pre-trained models...\n",
            "Loading model parameters...\n",
            "Compiling encoders...\n",
            "Loading tables...\n",
            "Packing up...\n",
            "Encoding sentences...\n"
          ],
          "name": "stdout"
        },
        {
          "output_type": "execute_result",
          "data": {
            "text/plain": [
              "array([[ 3.24455486e-03, -1.43544574e-03, -5.93063701e-03, ...,\n",
              "        -6.09537540e-03,  3.11452174e-03, -1.98343466e-03],\n",
              "       [-5.40337898e-03, -1.22876586e-02,  1.13298185e-02, ...,\n",
              "         6.14777952e-03,  4.68712859e-03, -4.63876687e-03],\n",
              "       [-3.48151848e-03,  1.88623861e-04, -5.58575339e-05, ...,\n",
              "        -2.69382866e-03,  3.58399376e-03, -2.32347450e-03],\n",
              "       ...,\n",
              "       [-1.80499710e-03, -1.07770283e-02,  5.22828987e-03, ...,\n",
              "         3.54486611e-03,  4.51352214e-03, -2.33431044e-03],\n",
              "       [ 3.03846202e-03, -1.46148289e-02, -6.62355870e-03, ...,\n",
              "        -3.75920348e-03,  3.92906321e-03,  2.77346326e-03],\n",
              "       [ 2.70938175e-03, -2.50164373e-03, -1.69911887e-02, ...,\n",
              "         1.98166142e-03,  5.09822974e-03, -5.77629823e-03]], dtype=float32)"
            ]
          },
          "metadata": {
            "tags": []
          },
          "execution_count": 19
        }
      ]
    },
    {
      "cell_type": "code",
      "metadata": {
        "id": "3ihiGM7M64cu",
        "colab_type": "code",
        "outputId": "c1f18e29-ec10-4f3a-ace0-e43ba41edfe2",
        "colab": {
          "base_uri": "https://localhost:8080/",
          "height": 106
        }
      },
      "source": [
        "def summarize(file, enc_file):\n",
        "  summary = [None]\n",
        "  n_clusters = int(np.ceil(len(enc_file)**0.5))\n",
        "  kmeans = KMeans(n_clusters=n_clusters, random_state=0)\n",
        "  kmeans = kmeans.fit(enc_file)\n",
        "  avg = []\n",
        "  closest = []\n",
        "  for j in range(n_clusters):\n",
        "    idx = np.where(kmeans.labels_ == j)[0]\n",
        "    avg.append(np.mean(idx))\n",
        "  closest, _ = pairwise_distances_argmin_min(kmeans.cluster_centers_,\\\n",
        "                                                   enc_file)\n",
        "  ordering = sorted(range(n_clusters), key=lambda k: avg[k])\n",
        "  summary = ' '.join([file[closest[idx]] for idx in ordering])\n",
        "  return summary\n",
        "\n",
        "# run function\n",
        "summary = summarize(file, enc_file)\n",
        "summary = sent_tokenize(summary)\n",
        "for sentence in summary:\n",
        "  print(sentence)"
      ],
      "execution_count": 0,
      "outputs": [
        {
          "output_type": "stream",
          "text": [
            "Our brain has given us the potential to communicate in extraordinary ways, and the ways we choose to use our words can improve the neural functioning of the brain.\n",
            "To date we’ve identified and documented twelve strategies that will enhance the dynamics of any conversation, even with strangers.\n",
            "We must carefully orchestrate our speech if we want to achieve our goals and bring our dreams to fruition.\n",
            "The right words, spoken in the right way, can bring us love, money, and respect, while the wrong words—or even the right words spoken in the wrong way—can lead a country to war.\n"
          ],
          "name": "stdout"
        }
      ]
    }
  ]
}